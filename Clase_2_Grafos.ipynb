{
  "nbformat": 4,
  "nbformat_minor": 0,
  "metadata": {
    "colab": {
      "provenance": [],
      "authorship_tag": "ABX9TyOhC22eBmq+Ihc0uz/qX24D",
      "include_colab_link": true
    },
    "kernelspec": {
      "name": "python3",
      "display_name": "Python 3"
    },
    "language_info": {
      "name": "python"
    }
  },
  "cells": [
    {
      "cell_type": "markdown",
      "metadata": {
        "id": "view-in-github",
        "colab_type": "text"
      },
      "source": [
        "<a href=\"https://colab.research.google.com/github/sharop/TallerGrafos/blob/main/Clase_2_Grafos.ipynb\" target=\"_parent\"><img src=\"https://colab.research.google.com/assets/colab-badge.svg\" alt=\"Open In Colab\"/></a>"
      ]
    },
    {
      "cell_type": "markdown",
      "source": [
        "#Big-**O**"
      ],
      "metadata": {
        "id": "eR_jl087ms7Z"
      }
    },
    {
      "cell_type": "markdown",
      "source": [
        "Este ejemplo siempre se recorre toda la lista, por lo que el tiempo de ejecución crece linealmente con el tamaño de la lista: esto es lo que se conoce como complejidad O(n)."
      ],
      "metadata": {
        "id": "iazPwmAumNbz"
      }
    },
    {
      "cell_type": "code",
      "execution_count": 1,
      "metadata": {
        "id": "j-AAZsoflaU_"
      },
      "outputs": [],
      "source": [
        "def buscar_en_lista_1(lista, elemento):\n",
        "    for i in lista:\n",
        "        if i == elemento:\n",
        "            pass\n",
        "    return False\n"
      ]
    },
    {
      "cell_type": "code",
      "source": [
        "buscar_en_lista_1([32,12,30,'a',39,100,9], 32)"
      ],
      "metadata": {
        "colab": {
          "base_uri": "https://localhost:8080/"
        },
        "id": "lX6yaUVKl26a",
        "outputId": "9b189010-c8e9-4f30-e3af-4262ddbd6c0a"
      },
      "execution_count": 4,
      "outputs": [
        {
          "output_type": "execute_result",
          "data": {
            "text/plain": [
              "False"
            ]
          },
          "metadata": {},
          "execution_count": 4
        }
      ]
    },
    {
      "cell_type": "markdown",
      "source": [
        "Este ejemplo, el mejor escenario posible (el elemento que buscamos es el primer elemento de la lista), la función terminará de inmediato, por lo que su complejidad es O(1). Sin embargo, en el peor caso (el elemento no está en la lista o está al final), la función todavía tendría que recorrer toda la lista, así que su complejidad es O(n)."
      ],
      "metadata": {
        "id": "hwn1PN_WmViB"
      }
    },
    {
      "cell_type": "code",
      "source": [
        "def buscar_en_lista_2(lista, elemento):\n",
        "    for i in lista:\n",
        "        if i == elemento:\n",
        "            return True\n",
        "    return False\n"
      ],
      "metadata": {
        "id": "82dX4LCpl_B0"
      },
      "execution_count": 7,
      "outputs": []
    },
    {
      "cell_type": "code",
      "source": [
        "buscar_en_lista_2([32,12,30,'a',39,100,9], 'a')"
      ],
      "metadata": {
        "colab": {
          "base_uri": "https://localhost:8080/"
        },
        "id": "klPFN-O_mXBF",
        "outputId": "fe47f376-d7ad-4cd6-b0dd-38bb2b94f532"
      },
      "execution_count": 9,
      "outputs": [
        {
          "output_type": "execute_result",
          "data": {
            "text/plain": [
              "True"
            ]
          },
          "metadata": {},
          "execution_count": 9
        }
      ]
    },
    {
      "cell_type": "code",
      "source": [],
      "metadata": {
        "id": "Qs6GEFehmYlG"
      },
      "execution_count": null,
      "outputs": []
    },
    {
      "cell_type": "markdown",
      "source": [
        "# DFS \n",
        "### Deteccion de Ciclos.\n",
        "Este código define dos funciones, detect_cycle y dfs_cycle. detect_cycle recorre todos los nodos del grafo y llama a dfs_cycle para cada nodo que aún no ha sido visitado. dfs_cycle utiliza DFS para explorar el grafo, y si durante la exploración se encuentra un nodo que ya ha sido visitado, eso significa que hay un ciclo."
      ],
      "metadata": {
        "id": "H-tIHD4Xw1zR"
      }
    },
    {
      "cell_type": "code",
      "source": [
        "def dfs(graph, start, visited=None):\n",
        "    if visited is None:\n",
        "        visited = set()\n",
        "    visited.add(start)\n",
        "    for neighbor in graph[start] - visited:\n",
        "        dfs(graph, neighbor, visited)\n",
        "    return visited\n",
        "\n",
        "def detect_cycle(graph):\n",
        "    visited = set()\n",
        "    for node in graph:\n",
        "        if node not in visited:\n",
        "            if dfs_cycle(graph, node, visited, -1):\n",
        "                return True\n",
        "    return False\n",
        "\n",
        "def dfs_cycle(graph, node, visited, parent):\n",
        "    visited.add(node)\n",
        "    for neighbor in graph[node]:\n",
        "        if neighbor not in visited:\n",
        "            if dfs_cycle(graph, neighbor, visited, node):\n",
        "                return True\n",
        "        elif parent != neighbor:\n",
        "            return True\n",
        "    return False\n",
        "\n",
        "graph = {'A': {'B', 'C'},\n",
        "         'B': {'A', 'C', 'D'},\n",
        "         'C': {'A', 'B'},\n",
        "         'D': {'B'}}\n",
        "\n",
        "print(detect_cycle(graph))\n",
        "\n"
      ],
      "metadata": {
        "colab": {
          "base_uri": "https://localhost:8080/"
        },
        "id": "ITbKi85Nw6Cj",
        "outputId": "a8c5ced4-18fa-40fa-c274-8ffef13f7c7e"
      },
      "execution_count": 11,
      "outputs": [
        {
          "output_type": "stream",
          "name": "stdout",
          "text": [
            "True\n"
          ]
        }
      ]
    },
    {
      "cell_type": "markdown",
      "source": [
        "# BFS\n",
        "### Verificación de conectividad\n",
        "En este código, se usa BFS para recorrer el grafo y se verifica si todos los nodos se pueden visitar desde un nodo de inicio arbitrario. Si eso es cierto, entonces el grafo es conectado."
      ],
      "metadata": {
        "id": "10wi764fxGKZ"
      }
    },
    {
      "cell_type": "code",
      "source": [
        "from collections import deque\n",
        "\n",
        "def bfs(graph, root): \n",
        "    visited = set()\n",
        "    queue = deque([root])\n",
        "    \n",
        "    while queue:\n",
        "        vertex = queue.popleft()\n",
        "        print(vertex, end=\" \")\n",
        "        \n",
        "        for neighbour in graph[vertex]:\n",
        "            if neighbour not in visited:\n",
        "                visited.add(neighbour)\n",
        "                queue.append(neighbour)\n",
        "\n",
        "def check_connectivity(graph):\n",
        "    visited = set()\n",
        "    bfs(graph, list(graph.keys())[0])\n",
        "    return visited == set(graph.keys())\n",
        "\n",
        "# Definimos un grafo como un diccionario\n",
        "graph = {\n",
        "    'A': ['B', 'C'],\n",
        "    'B': ['A', 'D', 'E'],\n",
        "    'C': ['A', 'F'],\n",
        "    'D': ['B'],\n",
        "    'E': ['B', 'F'],\n",
        "    'F': ['C', 'E']\n",
        "}\n",
        "\n",
        "print(\"\\nEs un grafo conectado?\", check_connectivity(graph))\n"
      ],
      "metadata": {
        "colab": {
          "base_uri": "https://localhost:8080/"
        },
        "id": "OS-saIJ0w71V",
        "outputId": "4935eac4-b136-4068-faf4-e29ddff430fb"
      },
      "execution_count": 13,
      "outputs": [
        {
          "output_type": "stream",
          "name": "stdout",
          "text": [
            "A B C A D E F \n",
            "Es un grafo conectado? False\n"
          ]
        }
      ]
    },
    {
      "cell_type": "code",
      "source": [],
      "metadata": {
        "id": "lN653CtRxwjI"
      },
      "execution_count": null,
      "outputs": []
    },
    {
      "cell_type": "markdown",
      "source": [
        "# Dijkstra"
      ],
      "metadata": {
        "id": "aARyYwlh5JQr"
      }
    },
    {
      "cell_type": "code",
      "source": [
        "import heapq\n",
        "\n",
        "def dijkstra(graph, start):\n",
        "    distances = {node: float('infinity') for node in graph}\n",
        "    distances[start] = 0\n",
        "    queue = [(0, start)]\n",
        "    while queue:\n",
        "        current_distance, current_node = heapq.heappop(queue)\n",
        "        if current_distance > distances[current_node]:\n",
        "            continue\n",
        "        for neighbor, weight in graph[current_node].items():\n",
        "            distance = current_distance + weight\n",
        "            if distance < distances[neighbor]:\n",
        "                distances[neighbor] = distance\n",
        "                heapq.heappush(queue, (distance, neighbor))\n",
        "    return distances\n",
        "\n",
        "graph = {\n",
        "    'A': {'B': 1, 'C': 4},\n",
        "    'B': {'A': 1, 'C': 2, 'D': 5},\n",
        "    'C': {'A': 4, 'B': 2, 'D': 1},\n",
        "    'D': {'B': 5, 'C': 1}\n",
        "}\n",
        "\n",
        "print(dijkstra(graph, 'A'))\n"
      ],
      "metadata": {
        "colab": {
          "base_uri": "https://localhost:8080/"
        },
        "id": "Hf17Q3MC5MF5",
        "outputId": "f9e39b7d-0308-44b4-9323-c518fe1af2c0"
      },
      "execution_count": 14,
      "outputs": [
        {
          "output_type": "stream",
          "name": "stdout",
          "text": [
            "{'A': 0, 'B': 1, 'C': 3, 'D': 4}\n"
          ]
        }
      ]
    },
    {
      "cell_type": "code",
      "source": [],
      "metadata": {
        "id": "tI-_7v7j5OzM"
      },
      "execution_count": null,
      "outputs": []
    },
    {
      "cell_type": "markdown",
      "source": [
        "# Bellman- Ford"
      ],
      "metadata": {
        "id": "c4vwrfkL5a0G"
      }
    },
    {
      "cell_type": "code",
      "source": [
        "def bellman_ford(graph, start):\n",
        "    distance, predecessor = dict(), dict()\n",
        "    for node in graph:\n",
        "        distance[node], predecessor[node] = float('inf'), None\n",
        "    distance[start] = 0\n",
        "\n",
        "    for _ in range(len(graph) - 1):\n",
        "        for node in graph:\n",
        "            for neighbour in graph[node]:\n",
        "                # If the distance between the node and the neighbour is lower than the current, store it\n",
        "                if distance[node] + graph[node][neighbour] < distance[neighbour]:\n",
        "                    distance[neighbour], predecessor[neighbour] = distance[node] + graph[node][neighbour], node\n",
        "\n",
        "    # Check for negative weight cycles\n",
        "    for node in graph:\n",
        "        for neighbour in graph[node]:\n",
        "            assert distance[node] + graph[node][neighbour] >= distance[neighbour], \"Negative weight cycle.\"\n",
        "\n",
        "    return distance, predecessor\n",
        "\n",
        "graph = {\n",
        "    'A': {'B': -1, 'C':  4},\n",
        "    'B': {'C': 3, 'D': 2, 'E': 2},\n",
        "    'C': {},\n",
        "    'D': {'B': 1, 'C': 5},\n",
        "    'E': {'D': -3}\n",
        "    }\n",
        "\n",
        "distances, predecessors = bellman_ford(graph, 'A')\n",
        "print(distances)\n"
      ],
      "metadata": {
        "colab": {
          "base_uri": "https://localhost:8080/"
        },
        "id": "g8PAFQAK5dfE",
        "outputId": "97449a2f-33ba-4230-af28-7ed31a01f5c7"
      },
      "execution_count": 16,
      "outputs": [
        {
          "output_type": "stream",
          "name": "stdout",
          "text": [
            "{'A': 0, 'B': -1, 'C': 2, 'D': -2, 'E': 1}\n"
          ]
        }
      ]
    },
    {
      "cell_type": "code",
      "source": [],
      "metadata": {
        "id": "g_g4DtDc5d9x"
      },
      "execution_count": null,
      "outputs": []
    }
  ]
}